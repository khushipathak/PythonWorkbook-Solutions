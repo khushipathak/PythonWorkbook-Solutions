{
 "cells": [
  {
   "cell_type": "markdown",
   "metadata": {},
   "source": [
    "# The Python Workbook (Ben Stephenson) - Solutions\n",
    " *Solved by Khushi Pathak*\n",
    "\n",
    "### 1. Introduction to Programming Exercises"
   ]
  },
  {
   "cell_type": "markdown",
   "metadata": {},
   "source": [
    "1. Create a program that displays your name and complete mailing address formatted in the manner that you would usually see it on the outside of an envelope."
   ]
  },
  {
   "cell_type": "code",
   "execution_count": 4,
   "metadata": {},
   "outputs": [
    {
     "name": "stdout",
     "output_type": "stream",
     "text": [
      "Ms Rebecca Smith\n",
      "123, Main Street\n",
      "Anchorage, AK 99501\n",
      "USA\n",
      "\n",
      " \n",
      "Ms Rebecca Smith\n",
      "123, Main Street\n",
      "Anchorage, AK 99501\n",
      "USA\n"
     ]
    }
   ],
   "source": [
    "print(\"Ms Rebecca Smith\\n123, Main Street\\nAnchorage, AK 99501\\nUSA\\n\\n \")\n",
    "\n",
    "# or \n",
    "\n",
    "print(\"Ms Rebecca Smith\")\n",
    "print(\"123, Main Street\")\n",
    "print(\"Anchorage, AK 99501\")\n",
    "print(\"USA\")\n"
   ]
  },
  {
   "cell_type": "markdown",
   "metadata": {},
   "source": [
    "2. Write a program that asks the user to enter his or her name. The program should respond with a message that says hello to the user, using his or her name."
   ]
  },
  {
   "cell_type": "code",
   "execution_count": 5,
   "metadata": {},
   "outputs": [
    {
     "name": "stdout",
     "output_type": "stream",
     "text": [
      "Please enter your name: Khushi\n",
      "Hello Khushi\n"
     ]
    }
   ],
   "source": [
    "name = input(\"Please enter your name: \")\n",
    "print(\"Hello\", name)"
   ]
  },
  {
   "cell_type": "markdown",
   "metadata": {},
   "source": [
    "3. Write a program that asks the user to enter the width and length of a room. Once the values have been read, your program should compute and display the area of the room. The length and the width will be entered as floating point numbers. Include units in your prompt and output message; either feet or meters, depending on which unit you are more comfortable working with.\n",
    "\n"
   ]
  },
  {
   "cell_type": "code",
   "execution_count": 11,
   "metadata": {},
   "outputs": [
    {
     "name": "stdout",
     "output_type": "stream",
     "text": [
      "Please enter the length of the room in meters:12.5\n",
      "Please enter the breadth of the room in meters:14.75\n",
      "The area of the room is 184.38 sq.m.\n"
     ]
    }
   ],
   "source": [
    "length = float(input(\"Please enter the length of the room in meters:\"))\n",
    "breadth = float(input(\"Please enter the breadth of the room in meters:\"))\n",
    "print(\"The area of the room is {:.2f} sq.m.\".format(length*breadth))"
   ]
  },
  {
   "cell_type": "markdown",
   "metadata": {},
   "source": [
    "4. Create a program that reads the length and width of a farmer’s field from the user in feet. Display the area of the field in acres.\n"
   ]
  },
  {
   "cell_type": "code",
   "execution_count": 12,
   "metadata": {},
   "outputs": [
    {
     "name": "stdout",
     "output_type": "stream",
     "text": [
      "Please enter the length of the farm in feet:200\n",
      "Please enter the breadth of the farm in feet:175\n",
      "The area of the farm is 0.80 acres.\n"
     ]
    }
   ],
   "source": [
    "length = float(input(\"Please enter the length of the farm in feet:\"))\n",
    "breadth = float(input(\"Please enter the breadth of the farm in feet:\"))\n",
    "print(\"The area of the farm is {:.2f} acres.\".format(length*breadth/43560))"
   ]
  },
  {
   "cell_type": "markdown",
   "metadata": {},
   "source": [
    "5. In many jurisdictions a small deposit is added to drink containers to encourage people to recycle them. In one particular jurisdiction, drink containers holding one liter or less have a USD 0.10 deposit, and drink containers holding more than one liter have a USD 0.25 deposit.\n",
    "Write a program that reads the number of containers of each size from the user. Your program should continue by computing and displaying the refund that will be received for returning those containers. Format the output so that it includes a dollar sign and always displays exactly two decimal places.\n"
   ]
  },
  {
   "cell_type": "code",
   "execution_count": 13,
   "metadata": {},
   "outputs": [
    {
     "name": "stdout",
     "output_type": "stream",
     "text": [
      "Enter the number of containers holding 1L or less:3\n",
      "Enter the number of containers holding more than 1L:5\n",
      "Your refund is $1.55.\n"
     ]
    }
   ],
   "source": [
    "small = int(input(\"Enter the number of containers holding 1L or less:\"))\n",
    "big = int(input(\"Enter the number of containers holding more than 1L:\"))\n",
    "\n",
    "refund = small*0.1 + big*0.25\n",
    "\n",
    "print(\"Your refund is ${:.2f}.\".format(refund))"
   ]
  },
  {
   "cell_type": "markdown",
   "metadata": {},
   "source": [
    "6. The program that you create for this exercise will begin by reading the cost of a meal ordered at a restaurant from the user. Then your program will compute the tax and tip for the meal. Use your local tax rate when computing the amount of tax owing. Compute the tip as 18 percent of the meal amount (without the tax). The output from your program should include the tax amount, the tip amount, and the grand total for the meal including both the tax and the tip. Format the output so that all of the values are displayed using two decimal places.\n"
   ]
  },
  {
   "cell_type": "code",
   "execution_count": 14,
   "metadata": {},
   "outputs": [
    {
     "name": "stdout",
     "output_type": "stream",
     "text": [
      "Enter the bill amount:150\n",
      "The tax on the bill is 14.25\n",
      "The tip on the bill is 27.00\n",
      "\n",
      "Your total expense is 191.25\n"
     ]
    }
   ],
   "source": [
    "bill = float(input(\"Enter the bill amount:\"))\n",
    "tax = bill*0.095\n",
    "tip = bill*0.18\n",
    "\n",
    "print(\"The tax on the bill is {:.2f}\".format(tax))\n",
    "print(\"The tip on the bill is {:.2f}\\n\".format(tip))\n",
    "print(\"Your total expense is {:.2f}\".format(bill+tax+tip))\n",
    "\n"
   ]
  },
  {
   "cell_type": "markdown",
   "metadata": {},
   "source": [
    "7. Write a program that reads a positive integer, n, from the user and then displays the sum of all of the integers from 1 to n.\n"
   ]
  },
  {
   "cell_type": "code",
   "execution_count": 16,
   "metadata": {},
   "outputs": [
    {
     "name": "stdout",
     "output_type": "stream",
     "text": [
      "Enter a number n: 20\n",
      "The sum of all integers from 1 to n is 210\n"
     ]
    }
   ],
   "source": [
    "n = int(input(\"Enter a number n: \"))\n",
    "s = round((n)*(n+1)/2)\n",
    "\n",
    "print(\"The sum of all integers from 1 to n is\", s)"
   ]
  },
  {
   "cell_type": "markdown",
   "metadata": {},
   "source": [
    "8. An online retailer sells two products: widgets and gizmos. Each widget weighs 75 grams. Each gizmo weighs 112 grams. Write a program that reads the number of widgets and the number of gizmos in an order from the user. Then your program should compute and display the total weight of the order."
   ]
  },
  {
   "cell_type": "code",
   "execution_count": 19,
   "metadata": {},
   "outputs": [
    {
     "name": "stdout",
     "output_type": "stream",
     "text": [
      "Enter the number of widgets: 5\n",
      "Enter the number of gizmo: 3\n",
      "The total weight is 711 grams\n"
     ]
    }
   ],
   "source": [
    "widget = int(input(\"Enter the number of widgets: \"))\n",
    "gizmo = int(input(\"Enter the number of gizmo: \"))\n",
    "\n",
    "wt = 75*widget + 112*gizmo\n",
    "\n",
    "print(\"The total weight is\", wt, \"grams\")"
   ]
  },
  {
   "cell_type": "markdown",
   "metadata": {},
   "source": [
    "9. Pretend that you have just opened a new savings account that earns 4 percent interest per year. The interest that you earn is paid at the end of the year, and is added to the balance of the savings account. Write a program that begins by reading the amount of money deposited into the account from the user. Then your program should compute and display the amount in the savings account after 1, 2, and 3 years. Display each amount so that it is rounded to 2 decimal places."
   ]
  },
  {
   "cell_type": "code",
   "execution_count": 21,
   "metadata": {},
   "outputs": [
    {
     "name": "stdout",
     "output_type": "stream",
     "text": [
      "Enter the savings amount: 1000\n",
      "At the end of the first year, you will have 1040.00\n",
      "At the end of the second year, you will have 1081.60\n",
      "At the end of the third year, you will have 1124.86\n"
     ]
    }
   ],
   "source": [
    "savings = float(input(\"Enter the savings amount: \"))\n",
    "\n",
    "interest = 0.04\n",
    "\n",
    "firstyearend = savings* (1 + 0.04)\n",
    "secondyearend = firstyearend* (1 + 0.04)\n",
    "thirdyearend = secondyearend* (1 + 0.04)\n",
    "\n",
    "print(\"At the end of the first year, you will have {:.2f}\".format(firstyearend))\n",
    "print(\"At the end of the second year, you will have {:.2f}\".format(secondyearend))\n",
    "print(\"At the end of the third year, you will have {:.2f}\".format(thirdyearend))"
   ]
  },
  {
   "cell_type": "markdown",
   "metadata": {},
   "source": [
    "10. Create a program that reads two integers, a and b, from the user. Your program should compute and display:\n",
    "    * The sum of a and b\n",
    "    * The difference when b is subtracted from a\n",
    "    * The product of a and b\n",
    "    * The quotient when a is divided by b\n",
    "    * The remainder when a is divided by b\n",
    "    * The result of log_10(a)\n",
    "    * The result of a^b\n"
   ]
  },
  {
   "cell_type": "code",
   "execution_count": 23,
   "metadata": {},
   "outputs": [
    {
     "name": "stdout",
     "output_type": "stream",
     "text": [
      "Enter the value for a: 3\n",
      "Enter the value for b: 2\n",
      "The sum of a and b is  5\n",
      "The difference when b is subtracted from a is  1\n",
      "The product of a and b is  6\n",
      "The quotient when a is divided by b is 1\n",
      "The remainder when a is divided by b is 1\n",
      "The result of log_10(a) is 0.47712125471966244\n",
      "The result of a^b is 9\n"
     ]
    }
   ],
   "source": [
    "import math\n",
    "\n",
    "a = int(input(\"Enter the value for a: \"))\n",
    "b = int(input(\"Enter the value for b: \"))\n",
    "\n",
    "print(\"The sum of a and b is \", (a+b))\n",
    "print(\"The difference when b is subtracted from a is \", (a-b))\n",
    "print(\"The product of a and b is \", (a*b))\n",
    "print(\"The quotient when a is divided by b is\", (a//b))\n",
    "print(\"The remainder when a is divided by b is\", (a%b))\n",
    "print(\"The result of log_10(a) is\", (math.log10(a)))\n",
    "print(\"The result of a^b is\", (a**b))\n"
   ]
  },
  {
   "cell_type": "markdown",
   "metadata": {},
   "source": [
    "11. In the United States, fuel efficiency for vehicles is normally expressed in miles-per-gallon (MPG). In Canada, fuel efficiency is normally expressed in liters-per-hundred kilometers (L/100 km). Use your research skills to determine how to convert from MPG to L/100 km. Then create a program that reads a value from the user in American units and displays the equivalent fuel efficiency in Canadian units."
   ]
  },
  {
   "cell_type": "code",
   "execution_count": 3,
   "metadata": {},
   "outputs": [
    {
     "name": "stdout",
     "output_type": "stream",
     "text": [
      "Enter the mileage in MPG: 100\n",
      "Equivalent to 2.352 L/100km\n"
     ]
    }
   ],
   "source": [
    "mpg = float(input(\"Enter the mileage in MPG: \"))\n",
    "\n",
    "kmpergallon = 1.609*mpg\n",
    "kmperlitre = kmpergallon/3.785\n",
    "hundredkmperlitre = kmperlitre/100\n",
    "Lp100km = 1/hundredkmperlitre\n",
    "\n",
    "print(\"Equivalent to {:.3f} L/100km\".format(Lp100km))\n"
   ]
  },
  {
   "cell_type": "markdown",
   "metadata": {},
   "source": [
    "12. The surface of the Earth is curved, and the distance between degrees of longitude varies with latitude. As a result, finding the distance between two points on the surface of the Earth is more complicated than simply using the Pythagorean theorem. Let (t1,g1) and (t2,g2) be the latitude and longitude of two points on the Earth’s surface. The distance between these points, following the surface of the Earth, in kilometers is: $$ $$ $$ distance = 6371.01 * arccos(sin(t_1) * sin(t_2) + cos(t_1) * cos(t_2) * cos(g_1 - g_2))$$ $$  $$\n",
    "Create a program that allows the user to enter the latitude and longitude of two points on the Earth in degrees. Your program should display the distance between the points, following the surface of the earth, in kilometers."
   ]
  },
  {
   "cell_type": "code",
   "execution_count": 7,
   "metadata": {},
   "outputs": [
    {
     "name": "stdout",
     "output_type": "stream",
     "text": [
      "Enter the first latitude: 22.35\n",
      "Enter the second latitude: 18.25\n",
      "Enter the first longitude: 43.225\n",
      "Enter the second longitude: 1.235\n",
      "The distance between the two points is 4389.12 kms.\n"
     ]
    }
   ],
   "source": [
    "import math\n",
    "\n",
    "t1 = math.radians(float(input(\"Enter the first latitude: \")))\n",
    "t2 = math.radians(float(input(\"Enter the second latitude: \")))\n",
    "\n",
    "g1 = math.radians(float(input(\"Enter the first longitude: \")))\n",
    "g2 = math.radians(float(input(\"Enter the second longitude: \")))\n",
    "\n",
    "distance = 6371.01 * math.acos(math.sin(t1) * math.sin(t2) + math.cos(t1) * math.cos(t2) * math.cos(g1 - g2))\n",
    "\n",
    "print(\"The distance between the two points is {:.2f} kms.\".format(distance))"
   ]
  },
  {
   "cell_type": "markdown",
   "metadata": {},
   "source": [
    "13. Consider the software that runs on a self-checkout machine. One task that it must be able to perform is to determine how much change to provide when the shopper pays for a purchase with cash.\n",
    "Write a program that begins by reading a number of cents from the user as an integer. Then your program should compute and display the denominations of the coins that should be used to give that amount of change to the shopper. The change should be given using as few coins as possible. Assume that the machine is loaded with pennies, nickels, dimes, quarters, loonies and toonies.\n"
   ]
  },
  {
   "cell_type": "code",
   "execution_count": 10,
   "metadata": {},
   "outputs": [
    {
     "name": "stdout",
     "output_type": "stream",
     "text": [
      "Enter the change amount in cents: 543\n",
      "Use 2 toonies, 1 loonies, 1 quarters, 1 dimes, 1 nickels and 3 pennies.\n"
     ]
    }
   ],
   "source": [
    "change = int(input(\"Enter the change amount in cents: \"))\n",
    "\n",
    "toonies = change//200\n",
    "change-= toonies*200\n",
    "\n",
    "loonies = change//100\n",
    "change-= loonies*100\n",
    "\n",
    "quarters = change//25\n",
    "change-= quarters*25\n",
    "\n",
    "dimes = change//10\n",
    "change-= dimes*10\n",
    "\n",
    "nickels = change//5\n",
    "change-= nickels*5\n",
    "\n",
    "pennies = change\n",
    "\n",
    "print(\"Use {} toonies, {} loonies, {} quarters, {} dimes, {} nickels and {} pennies.\".format(toonies,loonies,quarters,dimes,nickels,pennies))"
   ]
  },
  {
   "cell_type": "markdown",
   "metadata": {},
   "source": [
    "14. Many people think about their height in feet and inches, even in some countries that primarily use the metric system. Write a program that reads a number of feet from the user, followed by a number of inches. Once these values are read, your program should compute and display the equivalent number of centimeters.\n",
    "Hint: One foot is 12 inches. One inch is 2.54 centimeters.\n"
   ]
  },
  {
   "cell_type": "code",
   "execution_count": 12,
   "metadata": {},
   "outputs": [
    {
     "name": "stdout",
     "output_type": "stream",
     "text": [
      "Enter units of feet: 5\n",
      "Enter units of inch: 3\n",
      "Equivalent to 160.02 cms\n"
     ]
    }
   ],
   "source": [
    "feet = int(input(\"Enter units of feet: \"))\n",
    "inch = int(input(\"Enter units of inch: \"))\n",
    "\n",
    "inch += feet*12\n",
    "cms = inch * 2.54\n",
    "\n",
    "print(\"Equivalent to {} cms\".format(cms))"
   ]
  },
  {
   "cell_type": "markdown",
   "metadata": {},
   "source": [
    "15. In this exercise, you will create a program that begins by reading a measurement in feet from the user. Then your program should display the equivalent distance in inches, yards and miles. Use the Internet to look up the necessary conversion factors if you don’t have them memorized."
   ]
  },
  {
   "cell_type": "code",
   "execution_count": 14,
   "metadata": {},
   "outputs": [
    {
     "name": "stdout",
     "output_type": "stream",
     "text": [
      "Enter units of feet: 300\n",
      "3600.00 inches\n",
      "100.00 yards\n",
      "0.06 miles\n"
     ]
    }
   ],
   "source": [
    "feet = int(input(\"Enter units of feet: \"))\n",
    "\n",
    "inch = feet*12\n",
    "yard = feet/3\n",
    "mile = feet/5280\n",
    "\n",
    "print(\"{:.2f} inches\".format(inch))\n",
    "print(\"{:.2f} yards\".format(yard))\n",
    "print(\"{:.2f} miles\".format(mile))"
   ]
  },
  {
   "cell_type": "markdown",
   "metadata": {},
   "source": [
    "16. Write a program that begins by reading a radius, r, from the user. The program will continue by computing and displaying the area of a circle with radius r and the volume of a sphere with radius r. Use the pi constant in the math module in your calculations."
   ]
  },
  {
   "cell_type": "code",
   "execution_count": 17,
   "metadata": {},
   "outputs": [
    {
     "name": "stdout",
     "output_type": "stream",
     "text": [
      "Enter the radius: 7\n",
      "The area in sq.units is 153.94\n",
      "The volume in cu.units is 1436.76\n"
     ]
    }
   ],
   "source": [
    "import math\n",
    "\n",
    "r = int(input(\"Enter the radius: \"))\n",
    "area = math.pi * r * r\n",
    "volume = 4 * math.pi * r*r*r / 3\n",
    "\n",
    "print(\"The area in sq.units is\", round(area,2))\n",
    "print(\"The volume in cu.units is\", round(volume,2))"
   ]
  },
  {
   "cell_type": "markdown",
   "metadata": {},
   "source": [
    "17. The amount of energy required to increase the temperature of one gram of a material by one degree Celsius is the material’s specific heat capacity, c. The total amount of energy required to raise m grams of a material by $\\delta T$ degrees Celsius can be computed using the formula: $$ q = mc\\delta T$$Write a program that reads the mass of some water and the temperature change from the user. Your program should display the total amount of energy that must be added or removed to achieve the desired temperature change. Extend your program so that it also computes the cost of heating the water. Electricity is normally billed using units of kilowatt hours rather than Joules. In this exercise, you should assume that electricity costs 8.9 cents per kilowatt-hour. Use your program to compute the cost of boiling water for a cup of coffee.\n",
    "\n",
    "\n",
    "\n"
   ]
  },
  {
   "cell_type": "code",
   "execution_count": 20,
   "metadata": {},
   "outputs": [
    {
     "name": "stdout",
     "output_type": "stream",
     "text": [
      "Enter the mass of water in grams: 100\n",
      "Enter the temperature increase: 10\n",
      "The energy change needed is 4186.0 joules\n",
      "It will cost you 0.01 cents\n"
     ]
    }
   ],
   "source": [
    "m = int(input(\"Enter the mass of water in grams: \"))\n",
    "dT = int(input(\"Enter the temperature increase: \"))\n",
    "\n",
    "q = m * 4.186 * dT\n",
    "\n",
    "print(\"The energy change needed is {} joules\".format(q))\n",
    "\n",
    "cost = q * 8.9 / 3600000\n",
    "\n",
    "print(\"It will cost you {:.2f} cents\".format(cost))"
   ]
  },
  {
   "cell_type": "markdown",
   "metadata": {},
   "source": [
    "18. The volume of a cylinder can be computed by multiplying the area of its circular base by its height. Write a program that reads the radius of the cylinder, along with its height, from the user and computes its volume. Display the result rounded to one decimal place."
   ]
  },
  {
   "cell_type": "code",
   "execution_count": 24,
   "metadata": {},
   "outputs": [
    {
     "name": "stdout",
     "output_type": "stream",
     "text": [
      "Enter the radius: 10\n",
      "Enter the height: 7\n",
      "The volume of the cylinder is 2199.11 cu.units\n"
     ]
    }
   ],
   "source": [
    "import math\n",
    "\n",
    "r = int(input(\"Enter the radius: \"))\n",
    "h = int(input(\"Enter the height: \"))\n",
    "\n",
    "volume = math.pi * r * r * h\n",
    "\n",
    "print(\"The volume of the cylinder is {:.2f} cu.units\".format(volume))\n"
   ]
  },
  {
   "cell_type": "markdown",
   "metadata": {},
   "source": [
    "19. Create a program that determines how quickly an object is traveling when it hits the ground. The user will enter the height from which the object is dropped in meters (m). Because the object is dropped its initial speed is 0 m/s. Assume that the acceleration due to gravity is 9.8 m/s^2. You can use the formula $ v^2 = u^2 + 2as$ to compute the final speed, v, when the initial speed, u, acceleration, a, and distance, s, are known."
   ]
  },
  {
   "cell_type": "code",
   "execution_count": 25,
   "metadata": {},
   "outputs": [
    {
     "name": "stdout",
     "output_type": "stream",
     "text": [
      "Enter the height: 10\n",
      "The object hits the ground with the speed of 14.00 m/s\n"
     ]
    }
   ],
   "source": [
    "import math\n",
    "\n",
    "h = int(input(\"Enter the height: \"))\n",
    "\n",
    "v = math.sqrt(2*9.8*h)\n",
    "\n",
    "print(\"The object hits the ground with the speed of {:.2f} m/s\".format(v))"
   ]
  },
  {
   "cell_type": "markdown",
   "metadata": {},
   "source": [
    "20. The ideal gas law is a mathematical approximation of the behavior of gasses as pressure, volume and temperature change. It is usually stated as:$$ PV = nRT $$ where P is the pressure in Pascals, V is the volume in liters, n is the amount of substance in moles, R is the ideal gas constant, equal to 8.314 J/mol.K, and T is the temperature in degrees Kelvin. <br/> Write a program that computes the amount of gas in moles when the user supplies the pressure, volume and temperature. Test your program by determining the number of moles of gas in a SCUBA tank. A typical SCUBA tank holds 12 liters of gas at a pressure of 20,000,000 Pascals (approximately 3,000 PSI). Room temperature is approximately 20 degrees Celsius or 68 degrees Fahrenheit."
   ]
  },
  {
   "cell_type": "code",
   "execution_count": 32,
   "metadata": {},
   "outputs": [
    {
     "name": "stdout",
     "output_type": "stream",
     "text": [
      "Enter the pressure in pascals: 20000000\n",
      "Enter the volume in litres: 12\n",
      "Enter the temperature in Celsius: 20\n",
      "The tank contains 98471.674 moles of gas\n"
     ]
    }
   ],
   "source": [
    "P = int(input(\"Enter the pressure in pascals: \"))\n",
    "V = int(input(\"Enter the volume in litres: \"))\n",
    "TC = int(input(\"Enter the temperature in Celsius: \"))\n",
    "\n",
    "TK = TC + 273.15\n",
    "R = 8.314\n",
    "\n",
    "n = P * V / (R * TK)\n",
    "\n",
    "print(\"The tank contains {:.3f} moles of gas\".format(n))"
   ]
  },
  {
   "cell_type": "markdown",
   "metadata": {},
   "source": [
    "21. The area of a triangle can be computed using the following formula, where b is the length of the base of the triangle, and h is its height: $$ area =  \\frac{b * h}{2} $$ Write a program that allows the user to enter values for b and h. The program should then compute and display the area of a triangle with base length b and height h."
   ]
  },
  {
   "cell_type": "code",
   "execution_count": 37,
   "metadata": {},
   "outputs": [
    {
     "name": "stdout",
     "output_type": "stream",
     "text": [
      "Enter the length of the base of the triangle: 10\n",
      "Enter the height of the triangle: 5\n",
      "The area of the triangle is 25 sq. units\n"
     ]
    }
   ],
   "source": [
    "b =  int(input(\"Enter the length of the base of the triangle: \"))\n",
    "h =  int(input(\"Enter the height of the triangle: \"))\n",
    "\n",
    "area = b*h/2\n",
    "\n",
    "print(\"The area of the triangle is {:.0f} sq. units\".format(area))"
   ]
  },
  {
   "cell_type": "markdown",
   "metadata": {},
   "source": [
    "22. In the previous exercise you created a program that computed the area of a triangle when the length of its base and its height were known. It is also possible to compute the area of a triangle when the lengths of all three sides are known. Let $s_1$, $s_2$ and $s_3$ be the lengths of the sides. Let $s = (s_1 + s_2 + s_3)/2$. Then the area of the triangle can be calculated using the following formula: $$ area = \\sqrt{s * (s - s_1) * (s - s_2) * (s - s_3)} $$ Develop a program that reads the lengths of the sides of a triangle from the user and displays its area.\n"
   ]
  },
  {
   "cell_type": "code",
   "execution_count": 39,
   "metadata": {},
   "outputs": [
    {
     "name": "stdout",
     "output_type": "stream",
     "text": [
      "Enter three sides of a triangle separated by a space: 5 3 4\n",
      "The area of the triangle is 6.00 sq.units\n"
     ]
    }
   ],
   "source": [
    "s_arr = input(\"Enter three sides of a triangle separated by a space: \")\n",
    "sides = [float(x) for x in s_arr.split()]\n",
    "\n",
    "s = sum(sides) / 2\n",
    "\n",
    "area = math.sqrt( s * (s-sides[0]) * (s-sides[1]) * (s-sides[2]))\n",
    "\n",
    "print(\"The area of the triangle is {:.2f} sq.units\".format(area))"
   ]
  },
  {
   "cell_type": "markdown",
   "metadata": {},
   "source": [
    "23. A polygon is regular if its sides are all the same length and the angles between all of the adjacent sides are equal. The area of a regular polygon can be computed using the following formula, where s is the length of a side and n is the number of sides: $$ area = \\frac{n \\times s^2}{4 \\times tan(\\frac{\\pi}{n})} $$ Write a program that reads s and n from the user and then displays the area of a regular polygon constructed from these values."
   ]
  },
  {
   "cell_type": "code",
   "execution_count": 41,
   "metadata": {},
   "outputs": [
    {
     "name": "stdout",
     "output_type": "stream",
     "text": [
      "Enter the number of sides of the regular polygon: 6\n",
      "Enter the length of sides of the regular polygon: 3\n",
      "The area of the polygon is 23.38 sq.units\n"
     ]
    }
   ],
   "source": [
    "n = int(input(\"Enter the number of sides of the regular polygon: \"))\n",
    "s = int(input(\"Enter the length of sides of the regular polygon: \"))\n",
    "\n",
    "area = (n * s * s)/(4 * math.tan(math.pi/n))\n",
    "\n",
    "print(\"The area of the polygon is {:.2f} sq.units\".format(area))"
   ]
  },
  {
   "cell_type": "markdown",
   "metadata": {},
   "source": [
    "24. Create a program that reads a duration from the user as a number of days, hours, minutes, and seconds. Compute and display the total number of seconds represented by this duration."
   ]
  },
  {
   "cell_type": "code",
   "execution_count": 42,
   "metadata": {},
   "outputs": [
    {
     "name": "stdout",
     "output_type": "stream",
     "text": [
      "Enter the number of days   : 2\n",
      "Enter the number of hours  : 13\n",
      "Enter the number of minutes: 46\n",
      "Enter the number of seconds: 39\n",
      "Equivalent to a total of 222399 seconds\n"
     ]
    }
   ],
   "source": [
    "days    = int(input(\"Enter the number of days   : \"))\n",
    "hours   = int(input(\"Enter the number of hours  : \"))\n",
    "minutes = int(input(\"Enter the number of minutes: \"))\n",
    "seconds = int(input(\"Enter the number of seconds: \"))\n",
    "\n",
    "seconds = seconds + 60*(minutes + 60*(hours + days * 24))\n",
    "\n",
    "print(\"Equivalent to a total of {} seconds\".format(seconds))\n"
   ]
  },
  {
   "cell_type": "markdown",
   "metadata": {},
   "source": [
    "25. In this exercise you will reverse the process described in the previous exercise. Develop a program that begins by reading a number of seconds from the user. Then your program should display the equivalent amount of time in the form D:HH:MM:SS, where D, HH, MM, and SS represent days, hours, minutes and seconds respectively. The hours, minutes and seconds should all be formatted so that they occupy exactly two digits, with a leading 0 displayed if necessary."
   ]
  },
  {
   "cell_type": "code",
   "execution_count": 46,
   "metadata": {},
   "outputs": [
    {
     "name": "stdout",
     "output_type": "stream",
     "text": [
      "Enter the number of seconds: 222399\n",
      "Equivalent to 2 days, 13 hours, 46 minutes and 39 seconds\n"
     ]
    }
   ],
   "source": [
    "time = int(input(\"Enter the number of seconds: \"))\n",
    "\n",
    "seconds = time%60\n",
    "\n",
    "minutes = time//60\n",
    "hours =  minutes//60\n",
    "days = hours//24\n",
    "\n",
    "minutes = minutes%60\n",
    "hours = hours%24\n",
    "\n",
    "print(\"Equivalent to {} days, {} hours, {} minutes and {} seconds\".format(days, hours, minutes, seconds))\n"
   ]
  },
  {
   "cell_type": "markdown",
   "metadata": {},
   "source": [
    "26. Python includes a library of functions for working with time, including a function called `asctime` in the `time` module. It reads the current time from the computer’s internal clock and returns it in a human-readable format. Write a program that displays the current time and date. Your program will not require any input from the user."
   ]
  },
  {
   "cell_type": "code",
   "execution_count": 49,
   "metadata": {},
   "outputs": [
    {
     "name": "stdout",
     "output_type": "stream",
     "text": [
      "Right now, the time is Sat Sep 26 01:29:46 2020\n"
     ]
    }
   ],
   "source": [
    "import time\n",
    "\n",
    "print(\"Right now, the time is\", time.asctime())"
   ]
  },
  {
   "cell_type": "markdown",
   "metadata": {},
   "source": [
    "27. Write a program that computes the body mass index (BMI) of an individual. Your program should begin by reading a height and weight from the user. Then it should use one of the following two formulas to compute the BMI before displaying it. If you read the height in inches and the weight in pounds then body mass index is computed using the following formula: $$ BMI  = \\frac{weight}{height^2} \\times 703 $$ <br/> If you read the height in meters and the weight in kilograms then body mass index is computed using this slightly simpler formula: $$ BMI  = \\frac{weight}{height^2} $$"
   ]
  },
  {
   "cell_type": "code",
   "execution_count": 51,
   "metadata": {},
   "outputs": [
    {
     "name": "stdout",
     "output_type": "stream",
     "text": [
      "Enter the weight in pounds: 200\n",
      "Enter the height in inches: 75\n",
      "The BMI is 25.00\n",
      "Enter the weight in kilograms: 75\n",
      "Enter the height in meters: 1.6\n",
      "The BMI is 29.30\n"
     ]
    }
   ],
   "source": [
    "weight =  float(input(\"Enter the weight in pounds: \"))\n",
    "height =  float(input(\"Enter the height in inches: \"))\n",
    "\n",
    "bmi = weight * 703 / (height**2)\n",
    "\n",
    "print(\"The BMI is {:.2f}\".format(bmi))\n",
    "\n",
    "weight =  float(input(\"Enter the weight in kilograms: \"))\n",
    "height =  float(input(\"Enter the height in meters: \"))\n",
    "\n",
    "bmi = weight / (height**2)\n",
    "\n",
    "print(\"The BMI is {:.2f}\".format(bmi))"
   ]
  },
  {
   "cell_type": "markdown",
   "metadata": {},
   "source": [
    "28. When the wind blows in cold weather, the air feels even colder than it actually is because the movement of the air increases the rate of cooling for warm objects, like people. This effect is known as wind chill. <br/> In 2001, Canada, the United Kingdom and the United States adopted the following formula for computing the wind chill index. Within the formula $T_a$ is the air temperature in degrees Celsius and v is the wind speed in kilometers per hour. A similar formula with different constant values can be used with temperatures in degrees Fahrenheit and wind speeds in miles per hour. $$ WCI = 13.12 + 0.6215T_a - 11.37V^{0.16} + 0.3965T_aV^{0.16} $$ <br/> Write a program that begins by reading the air temperature and wind speed from the user. Once these values have been read your program should display the wind chill index rounded to the closest integer.\n",
    "The wind chill index is only considered valid for temperatures less than or equal to 10 degrees Celsius and wind speeds exceeding 4.8 kilometers per hour."
   ]
  },
  {
   "cell_type": "code",
   "execution_count": 55,
   "metadata": {},
   "outputs": [
    {
     "name": "stdout",
     "output_type": "stream",
     "text": [
      "Enter the air temperature in degree Celsius: 5\n",
      "Enter the wind speed in km/h: 5\n",
      "The wind chill index is 4\n"
     ]
    }
   ],
   "source": [
    "T = float(input(\"Enter the air temperature in degree Celsius: \"))\n",
    "V = float(input(\"Enter the wind speed in km/h: \"))\n",
    "\n",
    "WCI = 13.12 + 0.6215*T - 11.37*(V ** 0.16) + 0.3965*T*(V ** 0.16)\n",
    "\n",
    "print(\"The wind chill index is {:.0f}\".format(WCI))\n",
    "\n"
   ]
  },
  {
   "cell_type": "markdown",
   "metadata": {},
   "source": [
    "29. Write a program that begins by reading a temperature from the user in degrees Celsius. Then your program should display the equivalent temperature in degrees Fahrenheit and degrees Kelvin. The calculations needed to convert between different units of temperature can be found on the internet. "
   ]
  },
  {
   "cell_type": "code",
   "execution_count": 57,
   "metadata": {},
   "outputs": [
    {
     "name": "stdout",
     "output_type": "stream",
     "text": [
      "Enter the temperature in degree Celsius: 50\n",
      "Equivalent to 122.0 degree Fahrenheit or 323.15 Kelvin\n"
     ]
    }
   ],
   "source": [
    "celsius = float(input(\"Enter the temperature in degree Celsius: \"))\n",
    "\n",
    "fahrenheit = (celsius*9/5) + 32\n",
    "kelvin = celsius + 273.15\n",
    "\n",
    "print(\"Equivalent to {} degree Fahrenheit or {} Kelvin\".format(fahrenheit, kelvin))"
   ]
  },
  {
   "cell_type": "markdown",
   "metadata": {},
   "source": [
    "30. In this exercise you will create a program that reads a pressure from the user in kilopascals. Once the pressure has been read your program should report the equivalent pressure in pounds per square inch, millimeters of mercury and atmospheres. Use your research skills to determine the conversion factors between these units."
   ]
  },
  {
   "cell_type": "code",
   "execution_count": 59,
   "metadata": {},
   "outputs": [
    {
     "name": "stdout",
     "output_type": "stream",
     "text": [
      "Enter the pressure in kilopascals: 101325\n",
      "Equivalent to 144.14 pounds per sq. inch or 761.84 mm of  mercury or 1.00 atmospheres\n"
     ]
    }
   ],
   "source": [
    "p = float(input(\"Enter the pressure in kilopascals: \"))\n",
    "\n",
    "# P = F/A, F = m.a , A = s^2\n",
    "# m from kg to pounds, x2.205, and A from sq.m to sq.inch, x(39.37)^2\n",
    "\n",
    "lbsPsqinch = p * 2.205 / (39.37**2)\n",
    "\n",
    "mmHg = p / 133\n",
    "\n",
    "atm = p / 101325\n",
    "\n",
    "print(\"Equivalent to {:.2f} pounds per sq. inch or {:.2f} mm of  mercury or {:.2f} atmospheres\".format(lbsPsqinch, mmHg, atm))"
   ]
  },
  {
   "cell_type": "markdown",
   "metadata": {},
   "source": [
    "31. Develop a program that reads a four-digit integer from the user and displays the sum of the digits in the number. For example, if the user enters 3141 then your program should display 3 + 1 + 4 + 1 = 9."
   ]
  },
  {
   "cell_type": "code",
   "execution_count": 66,
   "metadata": {},
   "outputs": [
    {
     "name": "stdout",
     "output_type": "stream",
     "text": [
      "Enter a 4-digit number: 3141\n",
      "3 + 1 + 4 + 1 = 9\n"
     ]
    }
   ],
   "source": [
    "n = input(\"Enter a 4-digit number: \")\n",
    "strarr = [x for x in n]\n",
    "arr = [int(x) for x in n]\n",
    "\n",
    "print(\" + \".join(strarr),\"=\", sum(arr))"
   ]
  },
  {
   "cell_type": "markdown",
   "metadata": {},
   "source": [
    "32. Create a program that reads three integers from the user and displays them in sorted order (from smallest to largest). Use the min and max functions to find the smallest and largest values. The middle value can be found by computing the sum of all three values, and then subtracting the minimum value and the maximum value."
   ]
  },
  {
   "cell_type": "code",
   "execution_count": 69,
   "metadata": {},
   "outputs": [
    {
     "name": "stdout",
     "output_type": "stream",
     "text": [
      "Enter 3 numbers separated by a space: 345 785 34\n",
      "The sorted order is ->  34 345 785\n"
     ]
    }
   ],
   "source": [
    "inp = input(\"Enter 3 numbers separated by a space: \")\n",
    "arr = [int(x) for x in inp.split()]\n",
    "\n",
    "minnum = min(arr)\n",
    "maxnum = max(arr)\n",
    "midnum = sum(arr) - min(arr) - max(arr)\n",
    "\n",
    "print(\"The sorted order is -> \", minnum, midnum, maxnum)"
   ]
  },
  {
   "cell_type": "markdown",
   "metadata": {},
   "source": [
    "33. A bakery sells loaves of bread for \\$3.49 each. Day old bread is discounted by 60 percent. Write a program that begins by reading the number of loaves of day old bread being purchased from the user. Then your program should display the regular price for the bread, the discount because it is a day old, and the total price. All of the values should be displayed using two decimal places, and the decimal points in all of the numbers should be aligned when reasonable values are entered by the user."
   ]
  },
  {
   "cell_type": "code",
   "execution_count": 71,
   "metadata": {},
   "outputs": [
    {
     "name": "stdout",
     "output_type": "stream",
     "text": [
      "Enter the number of day old bread loaves: 5\n",
      "You get $17.45 worth of bread discounted by $10.47 at the final price of $6.98\n"
     ]
    }
   ],
   "source": [
    "n = int(input(\"Enter the number of day old bread loaves: \"))\n",
    "\n",
    "regular = n  * 3.49\n",
    "discount = regular * 0.6\n",
    "bill = regular - discount\n",
    "\n",
    "print(\"You get ${:.2f} worth of bread discounted by ${:.2f} at the final price of ${:.2f}\".format(regular,discount,bill))"
   ]
  },
  {
   "cell_type": "markdown",
   "metadata": {},
   "source": [
    "### The end."
   ]
  }
 ],
 "metadata": {
  "kernelspec": {
   "display_name": "Python 3",
   "language": "python",
   "name": "python3"
  },
  "language_info": {
   "codemirror_mode": {
    "name": "ipython",
    "version": 3
   },
   "file_extension": ".py",
   "mimetype": "text/x-python",
   "name": "python",
   "nbconvert_exporter": "python",
   "pygments_lexer": "ipython3",
   "version": "3.7.6"
  }
 },
 "nbformat": 4,
 "nbformat_minor": 4
}

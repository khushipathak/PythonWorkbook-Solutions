{
 "cells": [
  {
   "cell_type": "markdown",
   "metadata": {},
   "source": [
    "# The Python Workbook (Ben Stephenson) - Solutions\n",
    " *Solved by Khushi Pathak*\n",
    " \n",
    "Find the other notebooks [here](https://github.com/khushipathak/PythonWorkbook-Solutions)\n",
    "\n",
    "### 2. IF Statement Exercises"
   ]
  },
  {
   "cell_type": "markdown",
   "metadata": {},
   "source": [
    "34. Write a program that reads an integer from the user. Then your program should display a message indicating whether the integer is even or odd."
   ]
  },
  {
   "cell_type": "code",
   "execution_count": 1,
   "metadata": {},
   "outputs": [
    {
     "name": "stdout",
     "output_type": "stream",
     "text": [
      "Enter an integer: 65\n",
      "Odd\n"
     ]
    }
   ],
   "source": [
    "n = int(input(\"Enter an integer: \"))\n",
    "\n",
    "if n%2==0:\n",
    "    print(\"Even\")\n",
    "else:\n",
    "    print(\"Odd\")"
   ]
  },
  {
   "cell_type": "markdown",
   "metadata": {},
   "source": [
    "35. It is commonly said that one human year is equivalent to 7 dog years. However this simple conversion fails to recognize that dogs reach adulthood in approximately two years. As a result, some people believe that it is better to count each of the first two human years as 10.5 dog years, and then count each additional human year as 4 dog years. <br/> Write a program that implements the conversion from human years to dog years described in the previous paragraph. Ensure that your program works correctly for conversions of less than two human years and for conversions of two or more human years. Your program should display an appropriate error message if the user enters a negative number.\n"
   ]
  },
  {
   "cell_type": "code",
   "execution_count": 6,
   "metadata": {},
   "outputs": [
    {
     "name": "stdout",
     "output_type": "stream",
     "text": [
      "Enter number of human years: 12\n",
      "61 dog years\n"
     ]
    }
   ],
   "source": [
    "human = int(input(\"Enter number of human years: \"))\n",
    "\n",
    "if human<0:\n",
    "    print(\"Error. Negative age not allowed.\")\n",
    "elif human < 2:\n",
    "    dog = human * 10.5\n",
    "    print(dog, \"dog years\")\n",
    "else:\n",
    "    dog = 21 + (human-2)*4\n",
    "    print(dog, \"dog years\")\n"
   ]
  },
  {
   "cell_type": "markdown",
   "metadata": {},
   "source": [
    "36. In this exercise you will create a program that reads a letter of the alphabet from the user. If the user enters a, e, i, o or u then your program should display a message indicating that the entered letter is a vowel. If the user enters y then your program should display a message indicating that sometimes y is a vowel, and sometimes y is a consonant. Otherwise your program should display a message indicating that the letter is a consonant."
   ]
  },
  {
   "cell_type": "code",
   "execution_count": 10,
   "metadata": {},
   "outputs": [
    {
     "name": "stdout",
     "output_type": "stream",
     "text": [
      "Enter a letter of the alphabet: k\n",
      "It's a consonant\n"
     ]
    }
   ],
   "source": [
    "letter = input(\"Enter a letter of the alphabet: \")\n",
    "\n",
    "vowels = ['a','e','i','o','u']\n",
    "\n",
    "if letter in vowels:\n",
    "    print(\"It's a vowel\")\n",
    "elif letter == 'y':\n",
    "    print(\"It's sometimes a vowel, sometimes a consonant\")\n",
    "else:\n",
    "    print(\"It's a consonant\")"
   ]
  },
  {
   "cell_type": "markdown",
   "metadata": {},
   "source": [
    "37. Write a program that determines the name of a shape from its number of sides. Read the number of sides from the user and then report the appropriate name as part of a meaningful message. Your program should support shapes with anywhere from 3 up to (and including) 10 sides. If a number of sides outside of this range is entered then your program should display an appropriate error message."
   ]
  },
  {
   "cell_type": "code",
   "execution_count": 12,
   "metadata": {},
   "outputs": [
    {
     "name": "stdout",
     "output_type": "stream",
     "text": [
      "Enter the number of sides: 7\n",
      "It's a heptagon\n"
     ]
    }
   ],
   "source": [
    "n = int(input(\"Enter the number of sides: \"))\n",
    "\n",
    "if n == 3:\n",
    "    print(\"It's a triangle\")\n",
    "elif n == 4:\n",
    "    print(\"It's a quadrilateral\")\n",
    "elif n == 5:\n",
    "    print(\"It's a pentagon\")\n",
    "elif n == 6:\n",
    "    print(\"It's a hexagon\")\n",
    "elif n == 7:\n",
    "    print(\"It's a heptagon\")\n",
    "elif n == 8:\n",
    "    print(\"It's an octagon\")\n",
    "elif n == 9:\n",
    "    print(\"It's a nonagon\")\n",
    "elif n == 10:\n",
    "    print(\"It's a decagon\")\n",
    "else:\n",
    "    print(\"Invalid input\")"
   ]
  },
  {
   "cell_type": "markdown",
   "metadata": {},
   "source": [
    "38. The length of a month varies from 28 to 31 days. In this exercise you will create a program that reads the name of a month from the user as a string. Then your program should display the number of days in that month. Display “28 or 29 days” for February so that leap years are addressed. "
   ]
  },
  {
   "cell_type": "code",
   "execution_count": 14,
   "metadata": {},
   "outputs": [
    {
     "name": "stdout",
     "output_type": "stream",
     "text": [
      "Enter the name of the month: February\n",
      "It has 28 or 29 days\n"
     ]
    }
   ],
   "source": [
    "month = input(\"Enter the name of the month: \")\n",
    "\n",
    "if month in [\"January\", \"March\", \"May\", \"July\", \"August\", \"October\", \"December\"]:\n",
    "    days = 31\n",
    "elif month == \"February\":\n",
    "    days = \"28 or 29\"\n",
    "else:\n",
    "    days = \"30\"\n",
    "    \n",
    "print(\"It has {} days\".format(days))\n"
   ]
  },
  {
   "cell_type": "markdown",
   "metadata": {},
   "source": [
    "39. The following table lists the sound level in decibels for several common noises.\n",
    "\n",
    "|Noise          |Decibel level (dB)|\n",
    "|---------------|------------------|\n",
    "|Jackhammer     |130               |\n",
    "|Gas lawnmower  |106               | \n",
    "|Alarm clock    |70                |   \n",
    "|Quiet room     |40                |  \n",
    "\n",
    "Write a program that reads a sound level in decibels from the user. If the user enters a decibel level that matches one of the noises in the table then your program should display a message containing only that noise. If the user enters a number of decibels between the noises listed then your program should display a message indicating which noises the level is between. Ensure that your program also generates reasonable output for a value smaller than the quietest noise in the table, and for a value larger than the loudest noise in the table."
   ]
  },
  {
   "cell_type": "code",
   "execution_count": 19,
   "metadata": {},
   "outputs": [
    {
     "name": "stdout",
     "output_type": "stream",
     "text": [
      "Enter the noise level in decibels: 75\n",
      "It's more noisy than a Alarm clock but less noisy than a Gas Lawnmover\n"
     ]
    }
   ],
   "source": [
    "noisedict = {\"Jackhammer\":130,\"Gas Lawnmover\": 106, \"Alarm clock\": 70, \"Quiet room\": 40}\n",
    "\n",
    "noise = float(input(\"Enter the noise level in decibels: \"))\n",
    "\n",
    "upper = max(noisedict.values())\n",
    "lower = min(noisedict.values())\n",
    "\n",
    "done =  False\n",
    "\n",
    "for thing, dB in noisedict.items():\n",
    "    if dB == noise:\n",
    "        print(\"Just as noisy as a\", thing)\n",
    "        done = True\n",
    "        break\n",
    "    if dB > noise and dB < upper:\n",
    "        upper = dB\n",
    "    if dB < noise and dB > lower:\n",
    "        lower = dB\n",
    "        \n",
    "if  noise > 130:\n",
    "    print(\"It's more noisy than a jackhammer\")\n",
    "elif  noise < 40:\n",
    "    print(\"It's less noisy than a quiet room\")\n",
    "elif not done:\n",
    "    print(\"It's more noisy than a {} but less noisy than a {}\".format(list(noisedict.keys())[list(noisedict.values()).index(lower)], list(noisedict.keys())[list(noisedict.values()).index(upper)]))\n",
    "\n",
    "        \n",
    "\n",
    " "
   ]
  },
  {
   "cell_type": "markdown",
   "metadata": {},
   "source": [
    "40. A triangle can be classified based on the lengths of its sides as equilateral, isosceles or scalene. All 3 sides of an equilateral triangle have the same length. An isosceles triangle has two sides that are the same length, and a third side that is a different length. If all of the sides have different lengths then the triangle is scalene. <br/> Write a program that reads the lengths of 3 sides of a triangle from the user. Display a message indicating the type of the triangle."
   ]
  },
  {
   "cell_type": "code",
   "execution_count": 23,
   "metadata": {},
   "outputs": [
    {
     "name": "stdout",
     "output_type": "stream",
     "text": [
      "Enter the lengths of the sides of a triangle, separated by a space: 6 10 8\n",
      "Scalene triangle\n"
     ]
    }
   ],
   "source": [
    "sides_str = input(\"Enter the lengths of the sides of a triangle, separated by a space: \")\n",
    "\n",
    "sides = [float(s) for s in sides_str.split()]\n",
    "\n",
    "if sides[0]==sides[1] and sides[1]==sides[2]:\n",
    "    print(\"Equilateral triangle\")\n",
    "elif sides[0]==sides[1] or sides[1]==sides[2] or sides[0]==sides[2]:\n",
    "    print(\"Isosceles triangle\")\n",
    "else:\n",
    "    print(\"Scalene triangle\")"
   ]
  },
  {
   "cell_type": "markdown",
   "metadata": {},
   "source": [
    "41. The following table lists an octave of music notes, beginning with middle C, along with their frequencies.\n",
    "\n",
    "|Note     |Frequency (Hz)|\n",
    "|---------|--------------|\n",
    "|C4       |261.63        |\n",
    "|D4       |293.66        |\n",
    "|E4       |329.63        |\n",
    "|F4       |349.23        |\n",
    "|G4       |392.00        |\n",
    "|A4       |440.00        |\n",
    "|B4       |493.88        |\n",
    "\n",
    "Begin by writing a program that reads the name of a note from the user and displays the note’s frequency. Your program should support all of the notes listed previously.\n",
    "Once you have your program working correctly for the notes listed previously you should add support for all of the notes from C0 to C8. While this could be done by adding many additional cases to your if statement, such a solution is cumbersome, inelegant and unacceptable for the purposes of this exercise. Instead, you should exploit the relationship between notes in adjacent octaves. In particular, the frequency of any note in octave $n$ is half the frequency of the corresponding note in octave $n+1$. By using this relationship, you should be able to add support for the additional notes without adding additional cases to your if statement."
   ]
  },
  {
   "cell_type": "code",
   "execution_count": 25,
   "metadata": {},
   "outputs": [
    {
     "name": "stdout",
     "output_type": "stream",
     "text": [
      "Enter any note {A,B,C,D,E,F,G}{0,1,2,3,4,5,6,7,8}:  B5\n",
      "The frequency of B5 is 987.76 Hz\n"
     ]
    }
   ],
   "source": [
    "notedict = {\"C\":261.63, \"D\":293.66, \"E\":329.63, \"F\":349.23, \"G\":392.00, \"A\":440.00, \"B\":493.88}\n",
    "\n",
    "note = input(\"Enter any note {A,B,C,D,E,F,G}{0,1,2,3,4,5,6,7,8}:  \")\n",
    "query = [x for x in note]\n",
    "\n",
    "octave4freq = notedict[query[0]]\n",
    "\n",
    "freq = octave4freq * (2**( int(query[1]) - 4 ))\n",
    "\n",
    "print(\"The frequency of {} is {} Hz\".format(note, freq))\n"
   ]
  },
  {
   "cell_type": "markdown",
   "metadata": {},
   "source": [
    "42. In the previous question you converted from note name to frequency. In this question you will write a program that reverses that process. Begin by reading a frequency from the user. If the frequency is within one Hertz of a value listed in the table in the previous question then report the name of the note. Otherwise report that the frequency does not correspond to a known note. In this exercise you only need to consider the notes listed in the table. There is no need to consider notes from other octaves."
   ]
  },
  {
   "cell_type": "code",
   "execution_count": 32,
   "metadata": {},
   "outputs": [
    {
     "name": "stdout",
     "output_type": "stream",
     "text": [
      "Enter a frequency in Hz: 324\n",
      "Unknown note\n"
     ]
    }
   ],
   "source": [
    "freq = float(input(\"Enter a frequency in Hz: \"))\n",
    "\n",
    "unknown = True\n",
    "for note, notefreq in notedict.items():\n",
    "    if abs(notefreq - freq) <= 1:\n",
    "        print(\"It is {}{}\".format(note,4))\n",
    "        unknown = False\n",
    "        break\n",
    "        \n",
    "        \n",
    "if unknown:\n",
    "    print(\"Unknown note\")\n",
    "\n"
   ]
  },
  {
   "cell_type": "markdown",
   "metadata": {},
   "source": [
    "43. It is common for images of a country’s previous leaders, or other individuals of historical significance, to appear on its money. The individuals that appear on banknotes in the United States are listed in the gievn table:\n",
    "\n",
    "|Individual               |Amount|\n",
    "|-------------------------|------|\n",
    "|George Washington        |\\$1   |\n",
    "|Thomas Jefferson         |\\$2   |\n",
    "|Abraham Lincoln          |\\$5   |  \n",
    "|Alexander Hamilton       |\\$10  |   \n",
    "|Andrew Jackson           |\\$20  |  \n",
    "|Ulysses S. Grant         |\\$50  |   \n",
    "|Benjamin Franklin        |\\$100 |         \n",
    "\n",
    "\n",
    "Write a program that begins by reading the denomination of a banknote from the user. Then your program should display the name of the individual that appears on the banknote of the entered amount. An appropriate error message should be displayed if no such note exists."
   ]
  },
  {
   "cell_type": "code",
   "execution_count": 33,
   "metadata": {},
   "outputs": [
    {
     "name": "stdout",
     "output_type": "stream",
     "text": [
      "Enter the value of the banknote: 20\n",
      "The person appearing on a $20 bill is Andrew Jackson\n"
     ]
    }
   ],
   "source": [
    "n = int(input(\"Enter the value of the banknote: \"))\n",
    "\n",
    "if n ==1:\n",
    "    person = \"George Washington\"\n",
    "    print(\"The person appearing on a ${} bill is {}\".format(n,person))\n",
    "elif n==2:\n",
    "    person = \"Thomas Jefferson\"\n",
    "    print(\"The person appearing on a ${} bill is {}\".format(n,person))\n",
    "elif n==5:\n",
    "    person = \"Abraham Lincoln\"\n",
    "    print(\"The person appearing on a ${} bill is {}\".format(n,person))\n",
    "elif n==10:\n",
    "    person = \"Alexander Hamilton\"\n",
    "    print(\"The person appearing on a ${} bill is {}\".format(n,person))\n",
    "elif n==20:\n",
    "    person = \"Andrew Jackson\"\n",
    "    print(\"The person appearing on a ${} bill is {}\".format(n,person))\n",
    "elif n==50:\n",
    "    person = \"Ulysses S. Grant\"\n",
    "    print(\"The person appearing on a ${} bill is {}\".format(n,person))\n",
    "elif n==100:\n",
    "    person = \"Benjamin Franklin\"\n",
    "    print(\"The person appearing on a ${} bill is {}\".format(n,person))\n",
    "else:\n",
    "    print(\"Invalid input\")\n",
    "    \n"
   ]
  },
  {
   "cell_type": "markdown",
   "metadata": {},
   "source": [
    "44. Canada has three national holidays which fall on the same dates each year:\n",
    "\n",
    "|Holiday            |Date       |\n",
    "|-------------------|-----------|\n",
    "|New year’s day     |January 1  |    \n",
    "|Canada day         |July 1     |\n",
    "|Christmas day      |December 25| \n",
    "\n",
    "Write a program that reads a month and day from the user. If the month and day match one of the holidays listed previously then your program should display the holiday’s name. Otherwise your program should indicate that the entered month and day do not correspond to a fixed-date holiday."
   ]
  },
  {
   "cell_type": "code",
   "execution_count": 35,
   "metadata": {},
   "outputs": [
    {
     "name": "stdout",
     "output_type": "stream",
     "text": [
      "Enter a date (MONTH-DD): July 1\n",
      "That's Canada Day\n"
     ]
    }
   ],
   "source": [
    "date = input(\"Enter a date (MONTH-DD): \")\n",
    "\n",
    "if date == \"January 1\":\n",
    "    print(\"That's New Year's Day\")\n",
    "elif date == \"July 1\":\n",
    "    print(\"That's Canada Day\")\n",
    "elif date == \"December 25\":\n",
    "    print(\"That's Christmas Day\")\n",
    "else:\n",
    "    print(\"{} is not a fixed-date holiday\".format(date))"
   ]
  },
  {
   "cell_type": "markdown",
   "metadata": {},
   "source": [
    "45. Positions on a chess board are identified by a letter and a number. The letter identifies the column, while the number identifies the row. <br/> Write a program that reads a position from the user. Use an if statement to determine if the column begins with a black square or a white square. Then use modular arithmetic to report the color of the square in that row. For example, if the user enters a1 then your program should report that the square is black. If the user enters d5 then your program should report that the square is white. Your program may assume that a valid position will always be entered. It does not need to perform any error checking."
   ]
  },
  {
   "cell_type": "code",
   "execution_count": 37,
   "metadata": {},
   "outputs": [
    {
     "name": "stdout",
     "output_type": "stream",
     "text": [
      "Enter the id for a square:d5\n",
      "WHITE\n"
     ]
    }
   ],
   "source": [
    "oddcols = ['a','c','e','g']\n",
    "evencols = ['b','d','f','h']\n",
    "\n",
    "square = input(\"Enter the id for a square:\")\n",
    "arr = [x for x in square]\n",
    "col = arr[0]\n",
    "row = int(arr[1])\n",
    "\n",
    "if col in oddcols and row%2==1:\n",
    "    print(\"BLACK\")\n",
    "elif col in evencols and row%2==0:\n",
    "    print(\"BLACK\")\n",
    "else:\n",
    "    print(\"WHITE\")\n",
    "    "
   ]
  },
  {
   "cell_type": "markdown",
   "metadata": {},
   "source": [
    "46. The year is divided into four seasons: spring, summer, fall and winter. While the exact dates that the seasons change vary a little bit from year to year because of the way that the calendar is constructed, we will use the following dates for this exercise:\n",
    "\n",
    "|Season         |First day   |   \n",
    "|---------------|------------|\n",
    "|Spring         |March 20    |    \n",
    "|Summer         |June 21     |    \n",
    "|Fall           |September 22|\n",
    "|Winter         |December 21 |\n",
    "\n",
    "Create a program that reads a month and day from the user. The user will enter the name of the month as a string, followed by the day within the month as an integer. Then your program should display the season associated with the date that was entered."
   ]
  },
  {
   "cell_type": "code",
   "execution_count": 53,
   "metadata": {},
   "outputs": [
    {
     "name": "stdout",
     "output_type": "stream",
     "text": [
      "Enter a date (Month-DD):  July 7\n",
      "It's summer\n"
     ]
    }
   ],
   "source": [
    "from datetime import datetime\n",
    "\n",
    "mydate = input(\"Enter a date (Month-DD):  \")\n",
    "mydate = datetime.strptime(mydate,\"%B %d\")\n",
    "\n",
    "seasons = {\"Spring\": datetime.strptime(\"March 20\",\"%B %d\"), \"Summer\": datetime.strptime(\"June 21\",\"%B %d\"), \"Fall\": datetime.strptime(\"September 22\",\"%B %d\"), \"Winter\": datetime.strptime(\"December 21\",\"%B %d\")}\n",
    "\n",
    "if mydate >= seasons[\"Spring\"] and mydate < seasons[\"Summer\"]:\n",
    "    print(\"It's spring\")\n",
    "elif mydate >= seasons[\"Summer\"] and mydate < seasons[\"Fall\"]:\n",
    "    print(\"It's summer\")\n",
    "elif mydate >= seasons[\"Fall\"] and mydate < seasons[\"Winter\"]:\n",
    "    print(\"It's fall\")\n",
    "else:\n",
    "    print(\"It's winter.\")\n",
    "    \n",
    "    "
   ]
  },
  {
   "cell_type": "markdown",
   "metadata": {},
   "source": [
    "47. The horoscopes commonly reported in newspapers use the position of the sun at the time of one’s birth to try and predict the future. This system of astrology divides the year into twelve zodiac signs, as outline in the table below:\n",
    "\n",
    "\n",
    "|Zodiac sign      |Date range                 | \n",
    "|-----------------|---------------------------|\n",
    "|Capricorn        |December 22 to January 19  |                \n",
    "|Aquarius         |January 20 to February 18  |                \n",
    "|Pisces           |February 19 to March 20    |              \n",
    "|Aries            |March 21 to April 19       |           \n",
    "|Taurus           |April 20 to May 20         |         \n",
    "|Gemini           |May 21 to June 20          |        \n",
    "|Cancer           |June 21 to July 22         |         \n",
    "|Leo              |July 23 to August 22       |           \n",
    "|Virgo            |August 23 to September 22  |                \n",
    "|Libra            |September 23 to October 22 |                 \n",
    "|Scorpio          |October 23 to November 21  |                \n",
    "|Sagittarius      |November 22 to December 21 |                 \n",
    "\n",
    "\n",
    "\n",
    "Write a program that asks the user to enter his or her month and day of birth. Then your program should report the user’s zodiac sign as part of an appropriate output message."
   ]
  },
  {
   "cell_type": "code",
   "execution_count": 61,
   "metadata": {},
   "outputs": [
    {
     "name": "stdout",
     "output_type": "stream",
     "text": [
      "Enter your birthday (Month-DD):  August 15\n",
      "Your zodiac sign is Leo\n"
     ]
    }
   ],
   "source": [
    "from datetime import datetime\n",
    "\n",
    "mydate = input(\"Enter your birthday (Month-DD):  \")\n",
    "mydate = datetime.strptime(mydate,\"%B %d\")\n",
    "\n",
    "zodiac = {\"Capricorn\": datetime.strptime(\"December 22\",\"%B %d\"), \"Aquarius\": datetime.strptime(\"January 20\",\"%B %d\"), \"Pisces\": datetime.strptime(\"February 19\",\"%B %d\"), \"Aries\": datetime.strptime(\"March 21\",\"%B %d\"), \"Taurus\": datetime.strptime(\"April 20\",\"%B %d\"), \"Gemini\": datetime.strptime(\"May 21\",\"%B %d\"), \"Cancer\": datetime.strptime(\"June 21\",\"%B %d\"), \"Leo\": datetime.strptime(\"July 23\",\"%B %d\"), \"Virgo\": datetime.strptime(\"August 23\",\"%B %d\"), \"Libra\": datetime.strptime(\"September 23\",\"%B %d\"), \"Scorpio\": datetime.strptime(\"October 23\",\"%B %d\"), \"Sagittarius\": datetime.strptime(\"November 22\",\"%B %d\")}\n",
    "\n",
    "if mydate >= zodiac[\"Aquarius\"] and mydate < zodiac[\"Pisces\"]:\n",
    "    print(\"Your zodiac sign is Aquarius\")\n",
    "elif mydate >= zodiac[\"Pisces\"] and mydate < zodiac[\"Aries\"]:\n",
    "    print(\"Your zodiac sign is Pisces\")\n",
    "elif mydate >= zodiac[\"Aries\"] and mydate < zodiac[\"Taurus\"]:\n",
    "    print(\"Your zodiac sign is Aries\")\n",
    "elif mydate >= zodiac[\"Taurus\"] and mydate < zodiac[\"Gemini\"]:\n",
    "    print(\"Your zodiac sign is Taurus\")\n",
    "elif mydate >= zodiac[\"Gemini\"] and mydate < zodiac[\"Cancer\"]:\n",
    "    print(\"Your zodiac sign is Gemini\")\n",
    "elif mydate >= zodiac[\"Cancer\"] and mydate < zodiac[\"Leo\"]:\n",
    "    print(\"Your zodiac sign is Cancer\")\n",
    "elif mydate >= zodiac[\"Leo\"] and mydate < zodiac[\"Virgo\"]:\n",
    "    print(\"Your zodiac sign is Leo\")\n",
    "elif mydate >= zodiac[\"Virgo\"] and mydate < zodiac[\"Libra\"]:\n",
    "    print(\"Your zodiac sign is Virgo\")\n",
    "elif mydate >= zodiac[\"Libra\"] and mydate < zodiac[\"Scorpio\"]:\n",
    "    print(\"Your zodiac sign is Libra\")\n",
    "elif mydate >= zodiac[\"Scorpio\"] and mydate < zodiac[\"Sagittarius\"]:\n",
    "    print(\"Your zodiac sign is Scorpio\")\n",
    "elif mydate >= zodiac[\"Sagittarius\"] and mydate < zodiac[\"Capricorn\"]:\n",
    "    print(\"Your zodiac sign is Sagittarius\")\n",
    "else:\n",
    "    print(\"Your zodiac sign is Capricorn\")\n"
   ]
  },
  {
   "cell_type": "markdown",
   "metadata": {},
   "source": [
    "48. The Chinese zodiac assigns animals to years in a 12 year cycle. One 12 year cycle is shown in the table below. The pattern repeats from there, with 2012 being another year of the dragon, and 1999 being another year of the hare.\n",
    "\n",
    "|Year   |Animal  | \n",
    "|-------|--------|\n",
    "|2000   |Dragon  |     \n",
    "|2001   |Snake   |    \n",
    "|2002   |Horse   |    \n",
    "|2003   |Sheep   |    \n",
    "|2004   |Monkey  |     \n",
    "|2005   |Rooster |      \n",
    "|2006   |Dog     |  \n",
    "|2007   |Pig     |         \n",
    "|2008   |Rat     |         \n",
    "|2009   |Ox      | \n",
    "|2010   |Tiger   |    \n",
    "|2011   |Hare    |   \n",
    "\n",
    "\n",
    "Write a program that reads a year from the user and displays the animal associated with that year. Your program should work correctly for any year greater than or equal to zero, not just the ones listed in the table."
   ]
  },
  {
   "cell_type": "code",
   "execution_count": 69,
   "metadata": {},
   "outputs": [
    {
     "name": "stdout",
     "output_type": "stream",
     "text": [
      "Enter a year:  1989\n",
      "1989 is the year of the Snake\n"
     ]
    }
   ],
   "source": [
    "year = int(input(\"Enter a year:  \"))\n",
    "\n",
    "index = year%12\n",
    "\n",
    "if index == 8:\n",
    "    sign = \"Dragon\"\n",
    "elif index == 9:\n",
    "    sign = \"Snake\"\n",
    "elif index == 10:\n",
    "    sign = \"Horse\"\n",
    "elif index == 11:\n",
    "    sign = \"Sheep\"\n",
    "elif index == 0:\n",
    "    sign = \"Monkey\"\n",
    "elif index == 1:\n",
    "    sign = \"Rooster\"\n",
    "elif index == 2:\n",
    "    sign = \"Dog\"\n",
    "elif index == 3:\n",
    "    sign = \"Pig\"\n",
    "elif index == 4:\n",
    "    sign = \"Rat\"\n",
    "elif index == 5:\n",
    "    sign = \"Ox\"\n",
    "elif index == 6:\n",
    "    sign = \"Tiger\"\n",
    "elif index == 7:\n",
    "    sign = \"Hare\"\n",
    "    \n",
    "print(\"{} is the year of the {}\".format(year, sign))\n",
    "    \n",
    "\n",
    "    "
   ]
  },
  {
   "cell_type": "markdown",
   "metadata": {},
   "source": [
    "49. The following table contains earthquake magnitude ranges on the Richter scale and their descriptors:\n",
    "\n",
    "|Magnitude              |Descriptor |    \n",
    "|-----------------------|-----------|\n",
    "|Less than 2.0          |Micro      |      \n",
    "|2.0 to less than 3.0   |Very minor |           \n",
    "|3.0 to less than 4.0   |Minor      |      \n",
    "|4.0 to less than 5.0   |Light      |      \n",
    "|5.0 to less than 6.0   |Moderate   |         \n",
    "|6.0 to less than 7.0   |Strong     |       \n",
    "|7.0 to less than 8.0   |Major      |      \n",
    "|8.0 to less than 10.0  |Great      |      \n",
    "|10.0 or more           |Meteoric   |         \n",
    "\n",
    "Write a program that reads a magnitude from the user and displays the appropriate descriptor as part of a meaningful message. For example, if the user enters 5.5 then your program should indicate that a magnitude 5.5 earthquake is considered to be a moderate earthquake."
   ]
  },
  {
   "cell_type": "code",
   "execution_count": 70,
   "metadata": {},
   "outputs": [
    {
     "name": "stdout",
     "output_type": "stream",
     "text": [
      "Enter the Richter scale reading:  5.5\n",
      "It was a moderate earthquake\n"
     ]
    }
   ],
   "source": [
    "richter = float(input(\"Enter the Richter scale reading:  \"))\n",
    "\n",
    "if richter < 2:\n",
    "    desc = \"micro\"\n",
    "elif richter < 3:\n",
    "    desc = \"very minor\"\n",
    "elif richter < 4:\n",
    "    desc = \"minor\"\n",
    "elif richter < 5:\n",
    "    desc = \"light\"\n",
    "elif richter < 6:\n",
    "    desc = \"moderate\"\n",
    "elif richter < 7:\n",
    "    desc = \"strong\"\n",
    "elif richter < 8:\n",
    "    desc = \"major\"\n",
    "elif richter < 10:\n",
    "    desc = \"great\"\n",
    "else:\n",
    "    desc = \"meteoric\"\n",
    "    \n",
    "print(\"It was a {} earthquake\".format(desc))"
   ]
  },
  {
   "cell_type": "markdown",
   "metadata": {},
   "source": [
    "50. A univariate quadratic function has the form $f(x) = ax^2 + bx + c$, where a, b and c are constants, and a is non-zero. The roots of a quadratic function can be found by finding the values of x that satisfy the quadratic equation $ax^2 + bx + c = 0$. A quadratic function may have 0, 1 or 2 real roots. These roots can be computed using the quadratic formula, shown below: $$ roots = \\frac{ -b \\pm \\sqrt{b^2 - 4ac}}{2a}$$ <br/>  The portion of the expression under the square root sign is called the discriminant. If the discriminant is negative then the quadratic equation does not have any real roots. If the discriminant is 0, then the equation has one real root. Otherwise the equation has two real roots, and the expression must be evaluated twice, once using a plus sign, and once using a minus sign, when computing the numerator.\n",
    "Write a program that computes the real roots of a quadratic function. Your program should begin by prompting the user for the values of a, b and c. Then it should display a message indicating the number of real roots, along with the values of the real roots (if any). "
   ]
  },
  {
   "cell_type": "code",
   "execution_count": 75,
   "metadata": {},
   "outputs": [
    {
     "name": "stdout",
     "output_type": "stream",
     "text": [
      "Enter the value for a: 1\n",
      "Enter the value for b: 5\n",
      "Enter the value for c: 6\n",
      "The two roots are -2.0 and -3.0\n"
     ]
    }
   ],
   "source": [
    "import math\n",
    "\n",
    "a = float(input(\"Enter the value for a: \"))\n",
    "b = float(input(\"Enter the value for b: \"))\n",
    "c = float(input(\"Enter the value for c: \"))\n",
    "\n",
    "if (b**2) < (4*a*c):\n",
    "    print(\"It has 0 real roots\")\n",
    "else:\n",
    "    r1 = ( -1*b + math.sqrt( (b**2) - (4*a*c) ) ) / (2*a)\n",
    "    r2 = ( -1*b - math.sqrt( (b**2) - (4*a*c) ) ) / (2*a)\n",
    "    \n",
    "    print(\"The two roots are {} and {}\".format(r1,r2))"
   ]
  },
  {
   "cell_type": "markdown",
   "metadata": {},
   "source": [
    "51. At a particular university, letter grades are mapped to grade points in the following manner:\n",
    "\n",
    "|Letter   |     Grade points |  \n",
    "|---------|------------------|\n",
    "|A+       |     4.0          |\n",
    "|A        |     4.0          |\n",
    "|A-       |     3.7          |\n",
    "|B+       |     3.3          |\n",
    "|B        |     3.0          |\n",
    "|B-       |     2.7          |\n",
    "|C+       |     2.3          |\n",
    "|C        |     2.0          |\n",
    "|C-       |     1.7          |\n",
    "|D+       |     1.3          |\n",
    "|D        |     1.0          |\n",
    "|F        |     0            |\n",
    "\n",
    "Write a program that begins by reading a letter grade from the user. Then your program should compute and display the equivalent number of grade points. Ensure that your program generates an appropriate error message if the user enters an invalid letter grade."
   ]
  },
  {
   "cell_type": "code",
   "execution_count": 76,
   "metadata": {},
   "outputs": [
    {
     "name": "stdout",
     "output_type": "stream",
     "text": [
      "Enter your letter grade: B+\n",
      "Your GPA is 3.3\n"
     ]
    }
   ],
   "source": [
    "letter = input(\"Enter your letter grade: \")\n",
    "\n",
    "if letter == \"A+\" or letter == \"A\":\n",
    "    print(\"Your GPA is 4.0\")\n",
    "elif letter == \"A-\":\n",
    "    print(\"Your GPA is 3.7\")\n",
    "elif letter == \"B+\":\n",
    "    print(\"Your GPA is 3.3\")\n",
    "elif letter == \"B\":\n",
    "    print(\"Your GPA is 3.0\")\n",
    "elif letter == \"B-\":\n",
    "    print(\"Your GPA is 2.7\")\n",
    "elif letter == \"C+\":\n",
    "    print(\"Your GPA is 2.3\")\n",
    "elif letter == \"C\":\n",
    "    print(\"Your GPA is 2.0\")\n",
    "elif letter == \"C-\":\n",
    "    print(\"Your GPA is 1.7\")\n",
    "elif letter == \"D+\":\n",
    "    print(\"Your GPA is 1.3\")\n",
    "elif letter == \"D\":\n",
    "    print(\"Your GPA is 1.0\")\n",
    "elif letter == \"F\":\n",
    "    print(\"Your GPA is 0\")\n",
    "    \n",
    "\n",
    "    "
   ]
  },
  {
   "cell_type": "markdown",
   "metadata": {},
   "source": [
    "52. In the previous exercise you created a program that converts a letter grade into the equivalent number of grade points. In this exercise you will create a program that reverses the process and converts from a grade point value entered by the user to a letter grade. Ensure that your program handles grade point values that fall between letter grades. These should be rounded to the closest letter grade. Your program should report A+ for a 4.0 (or greater) grade point average.\n"
   ]
  },
  {
   "cell_type": "code",
   "execution_count": 77,
   "metadata": {},
   "outputs": [
    {
     "name": "stdout",
     "output_type": "stream",
     "text": [
      "Enter your GPA: 3.8\n",
      "Your letter grade is A-\n"
     ]
    }
   ],
   "source": [
    "gpa = float(input(\"Enter your GPA: \"))\n",
    "\n",
    "if gpa >= 4:\n",
    "    print(\"Your letter grade is A+\")\n",
    "elif gpa >= 3.85:\n",
    "    print(\"Your letter grade is A\")\n",
    "elif gpa >= 3.5:\n",
    "    print(\"Your letter grade is A-\")\n",
    "elif gpa >= 3.15:\n",
    "    print(\"Your letter grade is B+\")\n",
    "elif gpa >= 2.85:   \n",
    "    print(\"Your letter grade is B\")\n",
    "elif gpa >= 2.5:   \n",
    "    print(\"Your letter grade is B-\")\n",
    "elif gpa >= 2.15:   \n",
    "    print(\"Your letter grade is C+\")\n",
    "elif gpa >= 1.85:   \n",
    "    print(\"Your letter grade is C\")\n",
    "elif gpa >= 1.5:   \n",
    "    print(\"Your letter grade is C-\")\n",
    "elif gpa >= 1.15:   \n",
    "    print(\"Your letter grade is D+\")\n",
    "elif gpa >= 0.5:   \n",
    "    print(\"Your letter grade is D\")\n",
    "else:\n",
    "    print(\"Your letter grade is F\")"
   ]
  },
  {
   "cell_type": "markdown",
   "metadata": {},
   "source": [
    "53. At a particular company, employees are rated at the end of each year. The rating scale begins at 0.0, with higher values indicating better performance and resulting in larger raises. The value awarded to an employee is either 0.0, 0.4, or 0.6 or more. Values between 0.0 and 0.4, and between 0.4 and 0.6 are never used. The meaning associated with each rating is shown in the following table. The amount of an employee’s raise is \\$2400.00 multiplied by their rating.\n",
    "\n",
    "|Rating        |Meaning                  |\n",
    "|--------------|-------------------------|\n",
    "|0.0           |Unacceptable performance | \n",
    "|0.4           |Acceptable performance   | \n",
    "|0.6 or more   |Meritorious performance  |   \n",
    "\n",
    "Write a program that reads a rating from the user and indicates whether the performance was unacceptable, acceptable or meritorious. The amount of the employee’s raise should also be reported. Your program should display an appropriate error message if an invalid rating is entered."
   ]
  },
  {
   "cell_type": "code",
   "execution_count": 81,
   "metadata": {},
   "outputs": [
    {
     "name": "stdout",
     "output_type": "stream",
     "text": [
      "Enter the employee rating: 0.8\n",
      "Meritorious performance\n",
      "$1920.0 raise given\n"
     ]
    }
   ],
   "source": [
    "rating = float(input(\"Enter the employee rating: \"))\n",
    "\n",
    "if rating == 0:\n",
    "    print(\"Unacceptable performance\")\n",
    "    print(\"No raise given\")\n",
    "elif rating == 0.4:\n",
    "    print(\"Acceptable performance\")\n",
    "    print(\"${} raise given\".format(0.4*2400))\n",
    "elif rating >= 0.6:\n",
    "    print(\"Meritorious performance\")\n",
    "    print(\"${} raise given\".format(rating*2400))\n",
    "else:\n",
    "    print(\"Invalid rating\")\n",
    "    \n"
   ]
  },
  {
   "cell_type": "markdown",
   "metadata": {},
   "source": [
    "54. The wavelength of visible light ranges from 380 to 750 nanometers (nm). While the spectrum is continuous, it is often divided into 6 colors as shown below:\n",
    "\n",
    "|Color    |Wavelength (nm)      | \n",
    "|---------|---------------------|\n",
    "|Violet   |380 to less than 450 |         \n",
    "|Blue     |450 to less than 495 |         \n",
    "|Green    |495 to less than 570 |         \n",
    "|Yellow   |570 to less than 590 |         \n",
    "|Orange   |590 to less than 620 |         \n",
    "|Red      |620 to 750           |\n",
    "\n",
    "Write a program that reads a wavelength from the user and reports its color. Display an appropriate error message if the wavelength entered by the user is outside of the visible spectrum."
   ]
  },
  {
   "cell_type": "code",
   "execution_count": 83,
   "metadata": {},
   "outputs": [
    {
     "name": "stdout",
     "output_type": "stream",
     "text": [
      "Enter the wavelength of the wave in nm:  467\n",
      "Blue\n"
     ]
    }
   ],
   "source": [
    "wavelength = float(input(\"Enter the wavelength of the wave in nm:  \"))\n",
    "\n",
    "if wavelength > 750 or wavelength < 380:\n",
    "    print(\"Not visible\")\n",
    "elif wavelength >= 620:\n",
    "    print(\"Red\")\n",
    "elif wavelength >= 590:\n",
    "    print(\"Orange\")\n",
    "elif wavelength >= 570:\n",
    "    print(\"Yellow\")\n",
    "elif wavelength >= 495:\n",
    "    print(\"Green\")\n",
    "elif wavelength >= 450:\n",
    "    print(\"Blue\")\n",
    "elif wavelength >= 380:\n",
    "    print(\"Violet\")"
   ]
  },
  {
   "cell_type": "markdown",
   "metadata": {},
   "source": [
    "55. “Electromagnetic radiation can be classified into one of 7 categories according to its frequency, as shown in the table below:\n",
    "                    \n",
    "|Name                 |Frequency range (Hz)                             |  \n",
    "|---------------------|-------------------------------------------------|\n",
    "|Radio waves          |Less than $ 3 * 10^9 $                           |                 \n",
    "|Microwaves           |$ 3 * 10^9 $ to less than $ 3 * 10^{12} $        |              \n",
    "|Infrared light       |$ 3 * 10^{12} $ to less than $ 4.3 * 10^{14} $   |                 \n",
    "|Visible light        |$ 4.3 * 10^{14} $ to less than $ 7.5 * 10^{14} $ |                    \n",
    "|Ultraviolet light    |$ 7.5 * 10^{14} $ to less than $ 3 * 10^{17} $   |                  \n",
    "|X-Rays               |$ 3 * 10^{17} $  to less than $ 3 * 10^{19} $    |                 \n",
    "|Gamma rays           |$ 3 * 10^{19} $ or more                          |                \n",
    " \n",
    "Write a program that reads the frequency of the radiation from the user and displays the appropriate name."
   ]
  },
  {
   "cell_type": "code",
   "execution_count": 84,
   "metadata": {},
   "outputs": [
    {
     "name": "stdout",
     "output_type": "stream",
     "text": [
      "Enter the frquency in 10^14 Hz:  542\n",
      "Ultraviolet light\n"
     ]
    }
   ],
   "source": [
    "freq = float(input(\"Enter the frquency in 10^14 Hz:  \"))\n",
    "\n",
    "if freq > 0 and freq < 0.00003:\n",
    "    print(\"Radio wave\")\n",
    "elif freq < 0.003:\n",
    "    print(\"Microwave\")\n",
    "elif freq < 4.3:\n",
    "    print(\"Infrared light\")\n",
    "elif freq < 7.5:\n",
    "    print(\"Visible light\")\n",
    "elif freq < 3000:\n",
    "    print(\"Ultraviolet light\")\n",
    "elif freq < 300000:\n",
    "    print(\"X-ray\")\n",
    "else:\n",
    "    print(\"Gamma ray\")\n",
    "\n"
   ]
  },
  {
   "cell_type": "markdown",
   "metadata": {},
   "source": [
    "56. A particular cell phone plan includes 50 minutes of air time and 50 text messages for \\\\$15.00 a month. Each additional minute of air time costs \\\\$0.25, while additional text messages cost \\\\$0.15 each. All cell phone bills include an additional charge of \\\\$0.44 to support 911 call centers, and the entire bill (including the 911 charge) is subject to 5 percent sales tax. <br/> Write a program that reads the number of minutes and text messages used in a month from the user. Display the base charge, additional minutes charge (if any), additional text message charge (if any), the 911 fee, tax and total bill amount. Only display the additional minute and text message charges if the user incurred costs in these categories. Ensure that all of the charges are displayed using 2 decimal places."
   ]
  },
  {
   "cell_type": "code",
   "execution_count": 95,
   "metadata": {},
   "outputs": [
    {
     "name": "stdout",
     "output_type": "stream",
     "text": [
      "Enter the number of minutes used:  55\n",
      "Enter the number of texts sent:    75\n",
      "Base charge: \t\t\t $15.00\n",
      "Additional minutes charge: \t $1.25\n",
      "Additional text messages charge: $3.75\n",
      "911 fee: \t\t\t $0.44\n",
      "Tax: \t\t\t\t $1.02\n",
      "Total bill: \t\t\t $21.46\n"
     ]
    }
   ],
   "source": [
    "minutes = int(input(\"Enter the number of minutes used:  \"))\n",
    "texts = int(input(\"Enter the number of texts sent:    \"))\n",
    "\n",
    "bill = 15\n",
    "print(\"Base charge: \\t\\t\\t ${:.2f}\".format(bill))\n",
    "\n",
    "if minutes > 50:\n",
    "    bill += (minutes - 50) * 0.25\n",
    "    print(\"Additional minutes charge: \\t ${:.2f}\".format((minutes - 50) * 0.25))\n",
    "    \n",
    "\n",
    "if texts > 50:\n",
    "    bill += (texts - 50) *  0.15\n",
    "    print(\"Additional text messages charge: ${:.2f}\".format((texts - 50) *  0.15))\n",
    "    \n",
    "bill += 0.44\n",
    "print(\"911 fee: \\t\\t\\t ${:.2f}\".format(0.44))\n",
    "\n",
    "print(\"Tax: \\t\\t\\t\\t ${:.2f}\".format(bill * (0.05)))\n",
    "\n",
    "bill = bill * (1.05)\n",
    "print(\"Total bill: \\t\\t\\t ${:.2f}\".format(bill))\n"
   ]
  },
  {
   "cell_type": "markdown",
   "metadata": {},
   "source": [
    "57. Most years have 365 days. However, the time required for the Earth to orbit the Sun is actually slightly more than that. As a result, an extra day, February 29, is included in some years to correct for this difference. Such years are referred to as leap years. The rules for determining whether or not a year is a leap year follow:\n",
    "    - Any year that is divisible by 400 is a leap year.\n",
    "    - Of the remaining years, any year that is divisible by 100 is not a leap year.\n",
    "    - Of the remaining years, any year that is divisible by 4 is a leap year.\n",
    "    - All other years are not leap years.\n",
    "    \n",
    "Write a program that reads a year from the user and displays a message indicating whether or not it is a leap year"
   ]
  },
  {
   "cell_type": "code",
   "execution_count": 99,
   "metadata": {},
   "outputs": [
    {
     "name": "stdout",
     "output_type": "stream",
     "text": [
      "Enter a year: 2020\n",
      "It's a leap year\n"
     ]
    }
   ],
   "source": [
    "year = int(input(\"Enter a year: \"))\n",
    "\n",
    "if year%400==0:\n",
    "    print(\"It's a leap year\")\n",
    "elif year%4==0 and year%100!=0:\n",
    "    print(\"It's a leap year\")\n",
    "else:\n",
    "    print(\"It's a regular year\")"
   ]
  },
  {
   "cell_type": "markdown",
   "metadata": {},
   "source": [
    "58. Write a program that reads a date from the user and computes its immediate successor. For example, if the user enters values that represent 2013-11-18 then your program should display a message indicating that the day immediately after 2013-11-18 is 2013-11-19. If the user enters values that represent 2013-11-30 then the program should indicate that the next day is 2013-12-01. If the user enters values that represent 2013-12-31 then the program should indicate that the next day is 2014-01-01. The date will be entered in numeric form with three separate input statements; one for the year, one for the month, and one for the day. Ensure that your program works correctly for leap years."
   ]
  },
  {
   "cell_type": "code",
   "execution_count": 115,
   "metadata": {},
   "outputs": [
    {
     "name": "stdout",
     "output_type": "stream",
     "text": [
      "Enter the year YYYY: 2019\n",
      "Enter the month MM: 02\n",
      "Enter the day DD: 28\n",
      "The next day is 01-03-2019\n"
     ]
    }
   ],
   "source": [
    "import datetime\n",
    "from datetime import timedelta\n",
    "\n",
    "year = int(input(\"Enter the year YYYY: \"))\n",
    "month = int(input(\"Enter the month MM: \"))\n",
    "day = int(input(\"Enter the day DD: \"))\n",
    "\n",
    "today = datetime.datetime(year, month, day)\n",
    "\n",
    "tmro = today + timedelta(1)\n",
    "print(\"The next day is\", tmro.strftime('%d-%m-%Y'))\n"
   ]
  },
  {
   "cell_type": "markdown",
   "metadata": {},
   "source": [
    "59. In a particular jurisdiction, older license plates consist of three uppercase letters followed by three numbers. When all of the license plates following that pattern had been used, the format was changed to four numbers followed by three uppercase letters. <br/> Write a program that begins by reading a string of characters from the user. Then your program should display a message indicating whether the characters are valid for an older style license plate or a newer style license plate. Your program should display an appropriate message if the string entered by the user is not valid for either style of license plate."
   ]
  },
  {
   "cell_type": "code",
   "execution_count": 122,
   "metadata": {},
   "outputs": [
    {
     "name": "stdout",
     "output_type": "stream",
     "text": [
      "Enter the license plate number: 1234ABC\n",
      "New license plate\n"
     ]
    }
   ],
   "source": [
    "# Old -> ABC123\n",
    "# New -> 1234ABC\n",
    "\n",
    "license = input(\"Enter the license plate number: \")\n",
    "arr = [x for x in license]\n",
    "\n",
    "last3 = \"\".join(arr[-3:])\n",
    "first3 = \"\".join(arr[:3])\n",
    "first4 = \"\".join(arr[:4])\n",
    "\n",
    "if last3.isdigit() and first3.isupper():\n",
    "    print(\"Old license plate\")\n",
    "elif last3.isupper() and first4.isdigit():\n",
    "    print(\"New license plate\")\n",
    "else:\n",
    "    print(\"Invalid license plate\")"
   ]
  },
  {
   "cell_type": "markdown",
   "metadata": {},
   "source": [
    "60. A roulette wheel has 38 spaces on it. Of these spaces, 18 are black, 18 are red, and two are green. The green spaces are numbered 0 and 00. The red spaces are numbered 1, 3, 5, 7, 9, 12, 14, 16, 18, 19, 21, 23, 25, 27, 30, 32, 34 and 36. The remaining integers between 1 and 36 are used to number the black spaces. <br/> Many different bets can be placed in roulette. We will only consider the following subset of them in this exercise:\n",
    "    - Single number (1 to 36, 0, or 00)\n",
    "    - Red versus Black\n",
    "    - Odd versus Even (Note that 0 and 00 do not pay out for even)\n",
    "    - 1 to 18 versus 19 to 36\n",
    "    \n",
    "Write a program that simulates a spin of a roulette wheel by using Python’s random number generator. Display the number that was selected and all of the bets that must be payed. For example, if 13 is selected then your program should display:\n",
    "\n",
    "```\n",
    "The spin resulted in 13...\n",
    "Pay 13\n",
    "Pay Black\n",
    "Pay Odd\n",
    "Pay 1 to 18\n",
    "```\n",
    "If the simulation results in 0 or 00 then your program should display Pay 0 or Pay 00 without any further output."
   ]
  },
  {
   "cell_type": "code",
   "execution_count": 130,
   "metadata": {},
   "outputs": [
    {
     "name": "stdout",
     "output_type": "stream",
     "text": [
      "The spin resulted in 24...\n",
      "Pay 24\n",
      "Pay Black\n",
      "Pay Even\n",
      "Pay 19 to 36\n"
     ]
    }
   ],
   "source": [
    "import random\n",
    "\n",
    "def pay(x):\n",
    "    \n",
    "    print(\"Pay\",x)\n",
    "    \n",
    "    if x == 0 or x == '00':\n",
    "        return\n",
    "    \n",
    "    if x in red:\n",
    "        print(\"Pay Red\")\n",
    "    else:\n",
    "        print(\"Pay Black\")\n",
    "        \n",
    "    if x%2==0:\n",
    "        print(\"Pay Even\")\n",
    "    else:\n",
    "        print(\"Pay Odd\")\n",
    "        \n",
    "    if x in range(1,19):\n",
    "        print(\"Pay 1 to 18\")\n",
    "    else:\n",
    "        print(\"Pay 19 to 36\")\n",
    "        \n",
    "    return\n",
    "\n",
    "roulette = list(range(1,37)) + [0,'00']\n",
    "\n",
    "x = random.choice(roulette)\n",
    "\n",
    "print(\"The spin resulted in {}...\".format(x))\n",
    "\n",
    "red = [1, 3, 5, 7, 9, 12, 14, 16, 18, 19, 21, 23, 25, 27, 30, 32, 34 , 36]\n",
    "\n",
    "pay(x)\n",
    "\n",
    "\n",
    "        "
   ]
  },
  {
   "cell_type": "markdown",
   "metadata": {},
   "source": [
    "### The end"
   ]
  }
 ],
 "metadata": {
  "kernelspec": {
   "display_name": "Python 3",
   "language": "python",
   "name": "python3"
  },
  "language_info": {
   "codemirror_mode": {
    "name": "ipython",
    "version": 3
   },
   "file_extension": ".py",
   "mimetype": "text/x-python",
   "name": "python",
   "nbconvert_exporter": "python",
   "pygments_lexer": "ipython3",
   "version": "3.7.6"
  }
 },
 "nbformat": 4,
 "nbformat_minor": 4
}
